{
  "cells": [
    {
      "cell_type": "markdown",
      "metadata": {
        "id": "punL79CN7Ox6"
      },
      "source": [
        "##### Copyright 2020 The TensorFlow Authors."
      ]
    },
    {
      "cell_type": "code",
      "execution_count": null,
      "metadata": {
        "cellView": "form",
        "id": "_ckMIh7O7s6D"
      },
      "outputs": [],
      "source": [
        "#@title Licensed under the Apache License, Version 2.0 (the \"License\");\n",
        "# you may not use this file except in compliance with the License.\n",
        "# You may obtain a copy of the License at\n",
        "#\n",
        "# https://www.apache.org/licenses/LICENSE-2.0\n",
        "#\n",
        "# Unless required by applicable law or agreed to in writing, software\n",
        "# distributed under the License is distributed on an \"AS IS\" BASIS,\n",
        "# WITHOUT WARRANTIES OR CONDITIONS OF ANY KIND, either express or implied.\n",
        "# See the License for the specific language governing permissions and\n",
        "# limitations under the License."
      ]
    },
    {
      "cell_type": "markdown",
      "metadata": {
        "id": "hAclqSm3OOml"
      },
      "source": [
        "# Using LSTMs with the subwords dataset\n"
      ]
    },
    {
      "cell_type": "markdown",
      "metadata": {
        "id": "S5Uhzt6vVIB2"
      },
      "source": [
        "<table class=\"tfo-notebook-buttons\" align=\"left\">\n",
        "  <td>\n",
        "    <a target=\"_blank\" href=\"https://colab.research.google.com/github/tensorflow/examples/blob/master/courses/udacity_intro_to_tensorflow_for_deep_learning/l10c01_nlp_lstms_with_reviews_subwords_dataset.ipynb\"><img src=\"https://www.tensorflow.org/images/colab_logo_32px.png\" />Run in Google Colab</a>\n",
        "  </td>\n",
        "  <td>\n",
        "    <a target=\"_blank\" href=\"https://github.com/tensorflow/examples/blob/master/courses/udacity_intro_to_tensorflow_for_deep_learning/l10c01_nlp_lstms_with_reviews_subwords_dataset.ipynb\"><img src=\"https://www.tensorflow.org/images/GitHub-Mark-32px.png\" />View source on GitHub</a>\n",
        "  </td>\n",
        "</table>"
      ]
    },
    {
      "cell_type": "markdown",
      "metadata": {
        "id": "KTVx8__oGR9J"
      },
      "source": [
        "In this colab, you'll compare the results of using a model with an Embedding layer and then adding bidirectional LSTM layers.\n",
        "\n",
        "You'll work with the dataset of subwords for the combined Yelp and Amazon reviews.\n",
        "\n",
        "You'll use your models to predict the sentiment of new reviews."
      ]
    },
    {
      "cell_type": "code",
      "execution_count": 1,
      "metadata": {
        "id": "L62G7LTwNzoD"
      },
      "outputs": [],
      "source": [
        "import tensorflow as tf\n",
        "\n",
        "from tensorflow.keras.preprocessing.sequence import pad_sequences"
      ]
    },
    {
      "cell_type": "markdown",
      "metadata": {
        "id": "hLcl0QHvDjTV"
      },
      "source": [
        "# Get the dataset\n",
        "\n",
        "Start by getting the dataset containing Amazon and Yelp reviews, with their related sentiment (1 for positive, 0 for negative). This dataset was originally extracted from [here](https://www.kaggle.com/marklvl/sentiment-labelled-sentences-data-set).\n"
      ]
    },
    {
      "cell_type": "code",
      "execution_count": 2,
      "metadata": {
        "id": "nCOtiRJZbxCH",
        "colab": {
          "base_uri": "https://localhost:8080/"
        },
        "outputId": "8b358ad8-747c-4c7e-8e93-2346e55a83e6"
      },
      "outputs": [
        {
          "output_type": "stream",
          "name": "stdout",
          "text": [
            "--2022-05-11 08:17:12--  https://drive.google.com/uc?id=13ySLC_ue6Umt9RJYSeM2t-V0kCv-4C-P\n",
            "Resolving drive.google.com (drive.google.com)... 108.177.121.113, 108.177.121.100, 108.177.121.139, ...\n",
            "Connecting to drive.google.com (drive.google.com)|108.177.121.113|:443... connected.\n",
            "HTTP request sent, awaiting response... 303 See Other\n",
            "Location: https://doc-08-ak-docs.googleusercontent.com/docs/securesc/ha0ro937gcuc7l7deffksulhg5h7mbp1/q2g96l2tj83jo7qosmleh18ddkuj6c99/1652256975000/11118900490791463723/*/13ySLC_ue6Umt9RJYSeM2t-V0kCv-4C-P [following]\n",
            "Warning: wildcards not supported in HTTP.\n",
            "--2022-05-11 08:17:13--  https://doc-08-ak-docs.googleusercontent.com/docs/securesc/ha0ro937gcuc7l7deffksulhg5h7mbp1/q2g96l2tj83jo7qosmleh18ddkuj6c99/1652256975000/11118900490791463723/*/13ySLC_ue6Umt9RJYSeM2t-V0kCv-4C-P\n",
            "Resolving doc-08-ak-docs.googleusercontent.com (doc-08-ak-docs.googleusercontent.com)... 142.250.148.132, 2607:f8b0:4001:c54::84\n",
            "Connecting to doc-08-ak-docs.googleusercontent.com (doc-08-ak-docs.googleusercontent.com)|142.250.148.132|:443... connected.\n",
            "HTTP request sent, awaiting response... 200 OK\n",
            "Length: 127831 (125K) [text/csv]\n",
            "Saving to: ‘/tmp/sentiment.csv’\n",
            "\n",
            "/tmp/sentiment.csv  100%[===================>] 124.83K  --.-KB/s    in 0.002s  \n",
            "\n",
            "2022-05-11 08:17:13 (68.9 MB/s) - ‘/tmp/sentiment.csv’ saved [127831/127831]\n",
            "\n"
          ]
        }
      ],
      "source": [
        "!wget --no-check-certificate \\\n",
        "    https://drive.google.com/uc?id=13ySLC_ue6Umt9RJYSeM2t-V0kCv-4C-P -O /tmp/sentiment.csv"
      ]
    },
    {
      "cell_type": "code",
      "execution_count": 3,
      "metadata": {
        "id": "XuqER_KMD-xS"
      },
      "outputs": [],
      "source": [
        "import pandas as pd\n",
        "\n",
        "dataset = pd.read_csv('/tmp/sentiment.csv')\n",
        "\n",
        "# Extract out sentences and labels\n",
        "sentences = dataset['text'].tolist()\n",
        "labels = dataset['sentiment'].tolist()"
      ]
    },
    {
      "cell_type": "code",
      "execution_count": 4,
      "metadata": {
        "id": "Tbsx1T2CXPNO",
        "colab": {
          "base_uri": "https://localhost:8080/"
        },
        "outputId": "86c0c680-d533-474a-8f8d-5e6a054fdd6e"
      },
      "outputs": [
        {
          "output_type": "stream",
          "name": "stdout",
          "text": [
            "So there is no way for me to plug it in here in the US unless I go by a converter.\n",
            "0\n",
            "\n",
            "\n",
            "Good case Excellent value.\n",
            "1\n",
            "\n",
            "\n"
          ]
        }
      ],
      "source": [
        "# Print some example sentences and labels\n",
        "for x in range(2):\n",
        "  print(sentences[x])\n",
        "  print(labels[x])\n",
        "  print(\"\\n\")"
      ]
    },
    {
      "cell_type": "markdown",
      "metadata": {
        "id": "33AthPiALFZK"
      },
      "source": [
        "#Create a subwords dataset\n",
        "\n",
        "We will use the Amazon and Yelp reviews dataset with tensorflow_datasets's SubwordTextEncoder functionality. \n",
        "\n",
        "SubwordTextEncoder.build_from_corpus() will create a tokenizer for us. You could also use this functionality to get subwords from a much larger corpus of text as well, but we'll just use our existing dataset here.\n",
        "\n",
        "We'll create a subword vocab_size of only the 1,000 most common subwords, as well as cutting off each subword to be at most 5 characters.\n",
        "\n",
        "Check out the related documentation for the the subword text encoder [here](https://www.tensorflow.org/datasets/api_docs/python/tfds/features/text/SubwordTextEncoder#build_from_corpus)."
      ]
    },
    {
      "cell_type": "code",
      "execution_count": 5,
      "metadata": {
        "id": "6NaicNCcLYyf",
        "colab": {
          "base_uri": "https://localhost:8080/"
        },
        "outputId": "c0036a12-41da-4363-e8ce-f77aa1afe93b"
      },
      "outputs": [
        {
          "output_type": "stream",
          "name": "stdout",
          "text": [
            "Vocab size is  999\n"
          ]
        }
      ],
      "source": [
        "import tensorflow_datasets as tfds\n",
        "\n",
        "vocab_size = 1000\n",
        "tokenizer = tfds.deprecated.text.SubwordTextEncoder.build_from_corpus(sentences, vocab_size, max_subword_length=5)\n",
        "\n",
        "# How big is the vocab size?\n",
        "print(\"Vocab size is \", tokenizer.vocab_size)"
      ]
    },
    {
      "cell_type": "code",
      "execution_count": 6,
      "metadata": {
        "id": "xvRVoeIVLevh",
        "colab": {
          "base_uri": "https://localhost:8080/"
        },
        "outputId": "8853f0e8-df57-4f0b-d120-61a7b8161eb8"
      },
      "outputs": [
        {
          "output_type": "stream",
          "name": "stdout",
          "text": [
            "I have to jiggle the plug to get it to line up right to get decent volume.\n",
            "[4, 31, 6, 849, 162, 450, 12, 1, 600, 438, 775, 6, 175, 14, 6, 55, 213, 159, 474, 775, 6, 175, 614, 380, 295, 148, 72, 789]\n"
          ]
        }
      ],
      "source": [
        "# Check that the tokenizer works appropriately\n",
        "num = 5\n",
        "print(sentences[num])\n",
        "encoded = tokenizer.encode(sentences[num])\n",
        "print(encoded)"
      ]
    },
    {
      "cell_type": "code",
      "execution_count": 7,
      "metadata": {
        "id": "G_vacTCifklV",
        "colab": {
          "base_uri": "https://localhost:8080/"
        },
        "outputId": "e172aa6f-b1dd-4909-c180-6491d42d71a0"
      },
      "outputs": [
        {
          "output_type": "stream",
          "name": "stdout",
          "text": [
            "I \n",
            "have \n",
            "to \n",
            "j\n",
            "ig\n",
            "gl\n",
            "e \n",
            "the \n",
            "pl\n",
            "ug\n",
            " \n",
            "to \n",
            "get \n",
            "it \n",
            "to \n",
            "li\n",
            "ne \n",
            "up \n",
            "right\n",
            " \n",
            "to \n",
            "get \n",
            "dec\n",
            "ent \n",
            "vo\n",
            "lu\n",
            "me\n",
            ".\n"
          ]
        }
      ],
      "source": [
        "# Separately print out each subword, decoded\n",
        "for i in encoded:\n",
        "  print(tokenizer.decode([i]))"
      ]
    },
    {
      "cell_type": "markdown",
      "metadata": {
        "id": "cT528cptLupl"
      },
      "source": [
        "## Replace sentence data with encoded subwords\n",
        "\n",
        "Now, we'll create the sequences to be used for training by actually encoding each of the individual sentences. This is equivalent to `text_to_sequences` with the `Tokenizer` we used in earlier exercises."
      ]
    },
    {
      "cell_type": "code",
      "execution_count": 8,
      "metadata": {
        "id": "lkseMhxjL09F"
      },
      "outputs": [],
      "source": [
        "for i, sentence in enumerate(sentences):\n",
        "  sentences[i] = tokenizer.encode(sentence)"
      ]
    },
    {
      "cell_type": "code",
      "execution_count": 9,
      "metadata": {
        "id": "y21yRuzmL43U",
        "colab": {
          "base_uri": "https://localhost:8080/"
        },
        "outputId": "bd473868-5732-400e-81e3-c287ddceb0de"
      },
      "outputs": [
        {
          "output_type": "stream",
          "name": "stdout",
          "text": [
            "[4, 31, 6, 849, 162, 450, 12, 1, 600, 438, 775, 6, 175, 14, 6, 55, 213, 159, 474, 775, 6, 175, 614, 380, 295, 148, 72, 789]\n"
          ]
        }
      ],
      "source": [
        "# Check the sentences are appropriately replaced\n",
        "print(sentences[5])"
      ]
    },
    {
      "cell_type": "markdown",
      "metadata": {
        "id": "8HrcPHESMBMs"
      },
      "source": [
        "## Final pre-processing\n",
        "\n",
        "Before training, we still need to pad the sequences, as well as split into training and test sets."
      ]
    },
    {
      "cell_type": "code",
      "execution_count": 10,
      "metadata": {
        "id": "50-hTsogLSL-"
      },
      "outputs": [],
      "source": [
        "import numpy as np\n",
        "\n",
        "max_length = 50\n",
        "trunc_type='post'\n",
        "padding_type='post'\n",
        "\n",
        "# Pad all sequences\n",
        "sequences_padded = pad_sequences(sentences, maxlen=max_length, \n",
        "                                 padding=padding_type, truncating=trunc_type)\n",
        "\n",
        "# Separate out the sentences and labels into training and test sets\n",
        "training_size = int(len(sentences) * 0.8)\n",
        "\n",
        "training_sequences = sequences_padded[0:training_size]\n",
        "testing_sequences = sequences_padded[training_size:]\n",
        "training_labels = labels[0:training_size]\n",
        "testing_labels = labels[training_size:]\n",
        "\n",
        "# Make labels into numpy arrays for use with the network later\n",
        "training_labels_final = np.array(training_labels)\n",
        "testing_labels_final = np.array(testing_labels)"
      ]
    },
    {
      "cell_type": "markdown",
      "metadata": {
        "id": "PahZm7YEQ8EI"
      },
      "source": [
        "# Create the model using an Embedding"
      ]
    },
    {
      "cell_type": "code",
      "execution_count": 11,
      "metadata": {
        "id": "c_nyQeI0RCCv",
        "colab": {
          "base_uri": "https://localhost:8080/"
        },
        "outputId": "330b0781-6dfa-48f7-d75e-28a89549a018"
      },
      "outputs": [
        {
          "output_type": "stream",
          "name": "stdout",
          "text": [
            "Model: \"sequential\"\n",
            "_________________________________________________________________\n",
            " Layer (type)                Output Shape              Param #   \n",
            "=================================================================\n",
            " embedding (Embedding)       (None, 50, 16)            16000     \n",
            "                                                                 \n",
            " global_average_pooling1d (G  (None, 16)               0         \n",
            " lobalAveragePooling1D)                                          \n",
            "                                                                 \n",
            " dense (Dense)               (None, 6)                 102       \n",
            "                                                                 \n",
            " dense_1 (Dense)             (None, 1)                 7         \n",
            "                                                                 \n",
            "=================================================================\n",
            "Total params: 16,109\n",
            "Trainable params: 16,109\n",
            "Non-trainable params: 0\n",
            "_________________________________________________________________\n"
          ]
        }
      ],
      "source": [
        "embedding_dim = 16\n",
        "\n",
        "model = tf.keras.Sequential([\n",
        "    tf.keras.layers.Embedding(vocab_size, embedding_dim, input_length=max_length),\n",
        "    tf.keras.layers.GlobalAveragePooling1D(), \n",
        "    tf.keras.layers.Dense(6, activation='relu'),\n",
        "    tf.keras.layers.Dense(1, activation='sigmoid')\n",
        "])\n",
        "\n",
        "model.summary()"
      ]
    },
    {
      "cell_type": "markdown",
      "metadata": {
        "id": "3WRXrx8BRO2L"
      },
      "source": [
        "# Train the model"
      ]
    },
    {
      "cell_type": "code",
      "execution_count": 12,
      "metadata": {
        "id": "oBKyVYvxRQ_9",
        "colab": {
          "base_uri": "https://localhost:8080/"
        },
        "outputId": "f9735a4c-3ad7-4c53-c7fe-6d0318fb4e49"
      },
      "outputs": [
        {
          "output_type": "stream",
          "name": "stdout",
          "text": [
            "Epoch 1/30\n",
            "50/50 [==============================] - 5s 12ms/step - loss: 0.6909 - accuracy: 0.5229 - val_loss: 0.6984 - val_accuracy: 0.4160\n",
            "Epoch 2/30\n",
            "50/50 [==============================] - 0s 7ms/step - loss: 0.6867 - accuracy: 0.5317 - val_loss: 0.6975 - val_accuracy: 0.4411\n",
            "Epoch 3/30\n",
            "50/50 [==============================] - 0s 7ms/step - loss: 0.6802 - accuracy: 0.5637 - val_loss: 0.6939 - val_accuracy: 0.4762\n",
            "Epoch 4/30\n",
            "50/50 [==============================] - 0s 7ms/step - loss: 0.6695 - accuracy: 0.6014 - val_loss: 0.6881 - val_accuracy: 0.5013\n",
            "Epoch 5/30\n",
            "50/50 [==============================] - 0s 7ms/step - loss: 0.6526 - accuracy: 0.6296 - val_loss: 0.6715 - val_accuracy: 0.5514\n",
            "Epoch 6/30\n",
            "50/50 [==============================] - 0s 7ms/step - loss: 0.6289 - accuracy: 0.7081 - val_loss: 0.6513 - val_accuracy: 0.6316\n",
            "Epoch 7/30\n",
            "50/50 [==============================] - 0s 7ms/step - loss: 0.5953 - accuracy: 0.7740 - val_loss: 0.6395 - val_accuracy: 0.6165\n",
            "Epoch 8/30\n",
            "50/50 [==============================] - 0s 7ms/step - loss: 0.5575 - accuracy: 0.7828 - val_loss: 0.6110 - val_accuracy: 0.6667\n",
            "Epoch 9/30\n",
            "50/50 [==============================] - 0s 8ms/step - loss: 0.5166 - accuracy: 0.8217 - val_loss: 0.5801 - val_accuracy: 0.7268\n",
            "Epoch 10/30\n",
            "50/50 [==============================] - 0s 7ms/step - loss: 0.4779 - accuracy: 0.8412 - val_loss: 0.5750 - val_accuracy: 0.6917\n",
            "Epoch 11/30\n",
            "50/50 [==============================] - 0s 7ms/step - loss: 0.4409 - accuracy: 0.8569 - val_loss: 0.5412 - val_accuracy: 0.7393\n",
            "Epoch 12/30\n",
            "50/50 [==============================] - 0s 7ms/step - loss: 0.4077 - accuracy: 0.8613 - val_loss: 0.5482 - val_accuracy: 0.7368\n",
            "Epoch 13/30\n",
            "50/50 [==============================] - 0s 7ms/step - loss: 0.3806 - accuracy: 0.8675 - val_loss: 0.5071 - val_accuracy: 0.7519\n",
            "Epoch 14/30\n",
            "50/50 [==============================] - 0s 8ms/step - loss: 0.3549 - accuracy: 0.8801 - val_loss: 0.5266 - val_accuracy: 0.7444\n",
            "Epoch 15/30\n",
            "50/50 [==============================] - 0s 8ms/step - loss: 0.3322 - accuracy: 0.8908 - val_loss: 0.5200 - val_accuracy: 0.7519\n",
            "Epoch 16/30\n",
            "50/50 [==============================] - 0s 7ms/step - loss: 0.3114 - accuracy: 0.8895 - val_loss: 0.4973 - val_accuracy: 0.7544\n",
            "Epoch 17/30\n",
            "50/50 [==============================] - 0s 7ms/step - loss: 0.2949 - accuracy: 0.8989 - val_loss: 0.5064 - val_accuracy: 0.7544\n",
            "Epoch 18/30\n",
            "50/50 [==============================] - 0s 7ms/step - loss: 0.2807 - accuracy: 0.9008 - val_loss: 0.5159 - val_accuracy: 0.7519\n",
            "Epoch 19/30\n",
            "50/50 [==============================] - 0s 8ms/step - loss: 0.2651 - accuracy: 0.9134 - val_loss: 0.5056 - val_accuracy: 0.7544\n",
            "Epoch 20/30\n",
            "50/50 [==============================] - 0s 8ms/step - loss: 0.2525 - accuracy: 0.9203 - val_loss: 0.5045 - val_accuracy: 0.7569\n",
            "Epoch 21/30\n",
            "50/50 [==============================] - 0s 7ms/step - loss: 0.2422 - accuracy: 0.9171 - val_loss: 0.5251 - val_accuracy: 0.7619\n",
            "Epoch 22/30\n",
            "50/50 [==============================] - 0s 7ms/step - loss: 0.2318 - accuracy: 0.9234 - val_loss: 0.5197 - val_accuracy: 0.7644\n",
            "Epoch 23/30\n",
            "50/50 [==============================] - 0s 7ms/step - loss: 0.2216 - accuracy: 0.9291 - val_loss: 0.5321 - val_accuracy: 0.7619\n",
            "Epoch 24/30\n",
            "50/50 [==============================] - 0s 7ms/step - loss: 0.2120 - accuracy: 0.9347 - val_loss: 0.5304 - val_accuracy: 0.7594\n",
            "Epoch 25/30\n",
            "50/50 [==============================] - 0s 7ms/step - loss: 0.2047 - accuracy: 0.9366 - val_loss: 0.5642 - val_accuracy: 0.7544\n",
            "Epoch 26/30\n",
            "50/50 [==============================] - 0s 7ms/step - loss: 0.1960 - accuracy: 0.9372 - val_loss: 0.5531 - val_accuracy: 0.7619\n",
            "Epoch 27/30\n",
            "50/50 [==============================] - 0s 8ms/step - loss: 0.1883 - accuracy: 0.9448 - val_loss: 0.5637 - val_accuracy: 0.7569\n",
            "Epoch 28/30\n",
            "50/50 [==============================] - 0s 7ms/step - loss: 0.1818 - accuracy: 0.9473 - val_loss: 0.5694 - val_accuracy: 0.7569\n",
            "Epoch 29/30\n",
            "50/50 [==============================] - 0s 8ms/step - loss: 0.1753 - accuracy: 0.9504 - val_loss: 0.5799 - val_accuracy: 0.7644\n",
            "Epoch 30/30\n",
            "50/50 [==============================] - 0s 7ms/step - loss: 0.1698 - accuracy: 0.9561 - val_loss: 0.5793 - val_accuracy: 0.7619\n"
          ]
        }
      ],
      "source": [
        "num_epochs = 30\n",
        "model.compile(loss='binary_crossentropy',optimizer='adam',metrics=['accuracy'])\n",
        "history = model.fit(training_sequences, training_labels_final, epochs=num_epochs, validation_data=(testing_sequences, testing_labels_final))\n"
      ]
    },
    {
      "cell_type": "markdown",
      "metadata": {
        "id": "HhLPbUl2AZ0y"
      },
      "source": [
        "# Plot the accuracy and loss"
      ]
    },
    {
      "cell_type": "code",
      "execution_count": 13,
      "metadata": {
        "id": "jzBM1PpJAYfD",
        "colab": {
          "base_uri": "https://localhost:8080/",
          "height": 541
        },
        "outputId": "dbdd1cff-1ce8-4f1d-8153-cfb748bf2e10"
      },
      "outputs": [
        {
          "output_type": "display_data",
          "data": {
            "text/plain": [
              "<Figure size 432x288 with 1 Axes>"
            ],
            "image/png": "[encoded data removed]"
          },
          "metadata": {
            "needs_background": "light"
          }
        },
        {
          "output_type": "display_data",
          "data": {
            "text/plain": [
              "<Figure size 432x288 with 1 Axes>"
            ],
            "image/png": "[encoded data removed]"
          },
          "metadata": {
            "needs_background": "light"
          }
        }
      ],
      "source": [
        "import matplotlib.pyplot as plt\n",
        "\n",
        "\n",
        "def plot_graphs(history, string):\n",
        "  plt.plot(history.history[string])\n",
        "  plt.plot(history.history['val_'+string])\n",
        "  plt.xlabel(\"Epochs\")\n",
        "  plt.ylabel(string)\n",
        "  plt.legend([string, 'val_'+string])\n",
        "  plt.show()\n",
        "  \n",
        "plot_graphs(history, \"accuracy\")\n",
        "plot_graphs(history, \"loss\")"
      ]
    },
    {
      "cell_type": "markdown",
      "metadata": {
        "id": "Fwr5inBiWffb"
      },
      "source": [
        "# Define a function to predict the sentiment of reviews\n",
        "\n",
        "We'll be creating models with some differences and will use each model to predict the sentiment of some new reviews.\n",
        "\n",
        "To save time, create a function that will take in a model and some new reviews, and print out the sentiment of each reviews.\n",
        "\n",
        "The higher the sentiment value is to 1, the more positive the review is."
      ]
    },
    {
      "cell_type": "code",
      "execution_count": 14,
      "metadata": {
        "id": "aPNOYiiaha2y"
      },
      "outputs": [],
      "source": [
        "# Define a function to take a series of reviews\n",
        "# and predict whether each one is a positive or negative review\n",
        "\n",
        "# max_length = 100 # previously defined\n",
        "\n",
        "def predict_review(model, new_sentences, maxlen=max_length, show_padded_sequence=True ):\n",
        "  # Keep the original sentences so that we can keep using them later\n",
        "  # Create an array to hold the encoded sequences\n",
        "  new_sequences = []\n",
        "\n",
        "  # Convert the new reviews to sequences\n",
        "  for i, frvw in enumerate(new_sentences):\n",
        "    new_sequences.append(tokenizer.encode(frvw))\n",
        "\n",
        "  trunc_type='post' \n",
        "  padding_type='post'\n",
        "\n",
        "  # Pad all sequences for the new reviews\n",
        "  new_reviews_padded = pad_sequences(new_sequences, maxlen=max_length, \n",
        "                                 padding=padding_type, truncating=trunc_type)             \n",
        "\n",
        "  classes = model.predict(new_reviews_padded)\n",
        "\n",
        "  # The closer the class is to 1, the more positive the review is\n",
        "  for x in range(len(new_sentences)):\n",
        "    \n",
        "    # We can see the padded sequence if desired\n",
        "    # Print the sequence\n",
        "    if (show_padded_sequence):\n",
        "      print(new_reviews_padded[x])\n",
        "    # Print the review as text\n",
        "    print(new_sentences[x])\n",
        "    # Print its predicted class\n",
        "    print(classes[x])\n",
        "    print(\"\\n\")"
      ]
    },
    {
      "cell_type": "code",
      "execution_count": 19,
      "metadata": {
        "id": "Qg-maex27KPW",
        "colab": {
          "base_uri": "https://localhost:8080/"
        },
        "outputId": "6b87dfe0-d68e-43cd-94a5-3eb420d80e98"
      },
      "outputs": [
        {
          "output_type": "stream",
          "name": "stdout",
          "text": [
            "[  4 281  16  25   0   0   0   0   0   0   0   0   0   0   0   0   0   0\n",
            "   0   0   0   0   0   0   0   0   0   0   0   0   0   0   0   0   0   0\n",
            "   0   0   0   0   0   0   0   0   0   0   0   0   0   0]\n",
            "I love this phone\n",
            "[0.91171265]\n",
            "\n",
            "\n",
            "[812 227 864 100 775   9 525 843   0   0   0   0   0   0   0   0   0   0\n",
            "   0   0   0   0   0   0   0   0   0   0   0   0   0   0   0   0   0   0\n",
            "   0   0   0   0   0   0   0   0   0   0   0   0   0   0]\n",
            "Everything was cold\n",
            "[0.09117634]\n",
            "\n",
            "\n",
            "[812 227 864 100 775   9 109   8 333 731  24  61   4 171  59  77   0   0\n",
            "   0   0   0   0   0   0   0   0   0   0   0   0   0   0   0   0   0   0\n",
            "   0   0   0   0   0   0   0   0   0   0   0   0   0   0]\n",
            "Everything was hot exactly as I wanted\n",
            "[0.30860052]\n",
            "\n",
            "\n",
            "[812 227 864 100 775   9 157 359 853   0   0   0   0   0   0   0   0   0\n",
            "   0   0   0   0   0   0   0   0   0   0   0   0   0   0   0   0   0   0\n",
            "   0   0   0   0   0   0   0   0   0   0   0   0   0   0]\n",
            "Everything was green\n",
            "[0.07993443]\n",
            "\n",
            "\n",
            "[  1 109 228 540 237 635 241 423 340  89 298   0   0   0   0   0   0   0\n",
            "   0   0   0   0   0   0   0   0   0   0   0   0   0   0   0   0   0   0\n",
            "   0   0   0   0   0   0   0   0   0   0   0   0   0   0]\n",
            "the host seated us immediately\n",
            "[0.4817079]\n",
            "\n",
            "\n",
            "[154 242  47 635 341  12 569 547 147 319 775 125  85   0   0   0   0   0\n",
            "   0   0   0   0   0   0   0   0   0   0   0   0   0   0   0   0   0   0\n",
            "   0   0   0   0   0   0   0   0   0   0   0   0   0   0]\n",
            "they gave us free chocolate cake\n",
            "[0.7456764]\n",
            "\n",
            "\n",
            "[158 190 853 782   8 607 775 210 232 146 775 470  67 305 101  15   1 328\n",
            " 296  26  19   1 661 641 195   0   0   0   0   0   0   0   0   0   0   0\n",
            "   0   0   0   0   0   0   0   0   0   0   0   0   0   0]\n",
            "we couldn't hear each other talk because of the shouting in the kitchen\n",
            "[0.03814542]\n",
            "\n",
            "\n",
            "[  4 328 503 775  31 277 563 859   0   0   0   0   0   0   0   0   0   0\n",
            "   0   0   0   0   0   0   0   0   0   0   0   0   0   0   0   0   0   0\n",
            "   0   0   0   0   0   0   0   0   0   0   0   0   0   0]\n",
            "I should have slept\n",
            "[0.34582958]\n",
            "\n",
            "\n",
            "[291  29 782   3 193 304  20  32 775   6 174 130  17 285 444 789   0   0\n",
            "   0   0   0   0   0   0   0   0   0   0   0   0   0   0   0   0   0   0\n",
            "   0   0   0   0   0   0   0   0   0   0   0   0   0   0]\n",
            "There's no better place to go out for dinner.\n",
            "[0.25451604]\n",
            "\n",
            "\n",
            "[247 188  11 668 156  96 138 775  19 315 379   0   0   0   0   0   0   0\n",
            "   0   0   0   0   0   0   0   0   0   0   0   0   0   0   0   0   0   0\n",
            "   0   0   0   0   0   0   0   0   0   0   0   0   0   0]\n",
            "My friend found hair in her food\n",
            "[0.48221233]\n",
            "\n",
            "\n"
          ]
        }
      ],
      "source": [
        "# Use the model to predict some reviews   \n",
        "fake_reviews = [\"I love this phone\", \n",
        "                \"Everything was cold\",\n",
        "                \"Everything was hot exactly as I wanted\", \n",
        "                \"Everything was green\", \n",
        "                \"the host seated us immediately\",\n",
        "                \"they gave us free chocolate cake\", \n",
        "                \"we couldn't hear each other talk because of the shouting in the kitchen\",\n",
        "                \"I should have slept\",\n",
        "                \"There's no better place to go out for dinner.\",\n",
        "                \"My friend found hair in her food\"\n",
        "              ]\n",
        "\n",
        "predict_review(model, fake_reviews)\n"
      ]
    },
    {
      "cell_type": "markdown",
      "metadata": {
        "id": "ycJKbMq3K4iy"
      },
      "source": [
        "# Define a function to train and show the results of models with different layers\n",
        "\n",
        "In the rest of this colab, we will define models, and then see the results. \n",
        "\n",
        "Define a function that will take the model, compile it, train it, graph the accuracy and loss, and then predict some results."
      ]
    },
    {
      "cell_type": "code",
      "execution_count": 20,
      "metadata": {
        "id": "PevUcINXK3gn"
      },
      "outputs": [],
      "source": [
        "def fit_model_now (model, sentences) :\n",
        "  model.compile(loss='binary_crossentropy',optimizer='adam',metrics=['accuracy'])\n",
        "  model.summary()\n",
        "  history = model.fit(training_sequences, training_labels_final, epochs=num_epochs, \n",
        "                      validation_data=(testing_sequences, testing_labels_final))\n",
        "  return history\n",
        "\n",
        "def plot_results (history):\n",
        "  plot_graphs(history, \"accuracy\")\n",
        "  plot_graphs(history, \"loss\")\n",
        "\n",
        "def fit_model_and_show_results (model, sentences):\n",
        "  history = fit_model_now(model, sentences)\n",
        "  plot_results(history)\n",
        "  predict_review(model, sentences)"
      ]
    },
    {
      "cell_type": "markdown",
      "metadata": {
        "id": "U13JBiJUG1oq"
      },
      "source": [
        "# Add a bidirectional LSTM\n",
        "\n",
        "Create a new model that uses a bidirectional LSTM.\n",
        "\n",
        "Then use the function we have already defined to compile the model, train it, graph the accuracy and loss, then predict some results."
      ]
    },
    {
      "cell_type": "code",
      "execution_count": 21,
      "metadata": {
        "id": "scTUsFPAG4zP",
        "colab": {
          "base_uri": "https://localhost:8080/",
          "height": 1000
        },
        "outputId": "68803c40-00e9-43a8-bf1d-c404b5fb5dd2"
      },
      "outputs": [
        {
          "output_type": "stream",
          "name": "stdout",
          "text": [
            "Model: \"sequential_1\"\n",
            "_________________________________________________________________\n",
            " Layer (type)                Output Shape              Param #   \n",
            "=================================================================\n",
            " embedding_1 (Embedding)     (None, 50, 16)            16000     \n",
            "                                                                 \n",
            " bidirectional (Bidirectiona  (None, 32)               4224      \n",
            " l)                                                              \n",
            "                                                                 \n",
            " dense_2 (Dense)             (None, 6)                 198       \n",
            "                                                                 \n",
            " dense_3 (Dense)             (None, 1)                 7         \n",
            "                                                                 \n",
            "=================================================================\n",
            "Total params: 20,429\n",
            "Trainable params: 20,429\n",
            "Non-trainable params: 0\n",
            "_________________________________________________________________\n",
            "Epoch 1/30\n",
            "50/50 [==============================] - 8s 44ms/step - loss: 0.6929 - accuracy: 0.5267 - val_loss: 0.6904 - val_accuracy: 0.6216\n",
            "Epoch 2/30\n",
            "50/50 [==============================] - 1s 24ms/step - loss: 0.6803 - accuracy: 0.6434 - val_loss: 0.6302 - val_accuracy: 0.7168\n",
            "Epoch 3/30\n",
            "50/50 [==============================] - 1s 24ms/step - loss: 0.6023 - accuracy: 0.7621 - val_loss: 0.6300 - val_accuracy: 0.6190\n",
            "Epoch 4/30\n",
            "50/50 [==============================] - 1s 25ms/step - loss: 0.4529 - accuracy: 0.8267 - val_loss: 0.5843 - val_accuracy: 0.6942\n",
            "Epoch 5/30\n",
            "50/50 [==============================] - 1s 25ms/step - loss: 0.3270 - accuracy: 0.8701 - val_loss: 0.5489 - val_accuracy: 0.7494\n",
            "Epoch 6/30\n",
            "50/50 [==============================] - 1s 24ms/step - loss: 0.2712 - accuracy: 0.8983 - val_loss: 0.6338 - val_accuracy: 0.7193\n",
            "Epoch 7/30\n",
            "50/50 [==============================] - 1s 24ms/step - loss: 0.2171 - accuracy: 0.9222 - val_loss: 0.6398 - val_accuracy: 0.7419\n",
            "Epoch 8/30\n",
            "50/50 [==============================] - 1s 24ms/step - loss: 0.1729 - accuracy: 0.9454 - val_loss: 0.6703 - val_accuracy: 0.7544\n",
            "Epoch 9/30\n",
            "50/50 [==============================] - 1s 24ms/step - loss: 0.1527 - accuracy: 0.9517 - val_loss: 0.7049 - val_accuracy: 0.7594\n",
            "Epoch 10/30\n",
            "50/50 [==============================] - 1s 24ms/step - loss: 0.1220 - accuracy: 0.9648 - val_loss: 0.7722 - val_accuracy: 0.7569\n",
            "Epoch 11/30\n",
            "50/50 [==============================] - 1s 24ms/step - loss: 0.1033 - accuracy: 0.9724 - val_loss: 0.8272 - val_accuracy: 0.7644\n",
            "Epoch 12/30\n",
            "50/50 [==============================] - 1s 24ms/step - loss: 0.0846 - accuracy: 0.9805 - val_loss: 0.8776 - val_accuracy: 0.7469\n",
            "Epoch 13/30\n",
            "50/50 [==============================] - 1s 25ms/step - loss: 0.0706 - accuracy: 0.9831 - val_loss: 0.9835 - val_accuracy: 0.7393\n",
            "Epoch 14/30\n",
            "50/50 [==============================] - 1s 25ms/step - loss: 0.0608 - accuracy: 0.9906 - val_loss: 0.9895 - val_accuracy: 0.7519\n",
            "Epoch 15/30\n",
            "50/50 [==============================] - 1s 24ms/step - loss: 0.0493 - accuracy: 0.9912 - val_loss: 1.0538 - val_accuracy: 0.7444\n",
            "Epoch 16/30\n",
            "50/50 [==============================] - 1s 25ms/step - loss: 0.0470 - accuracy: 0.9912 - val_loss: 1.0492 - val_accuracy: 0.7444\n",
            "Epoch 17/30\n",
            "50/50 [==============================] - 1s 25ms/step - loss: 0.0378 - accuracy: 0.9937 - val_loss: 1.1045 - val_accuracy: 0.7469\n",
            "Epoch 18/30\n",
            "50/50 [==============================] - 1s 24ms/step - loss: 0.0299 - accuracy: 0.9944 - val_loss: 1.1273 - val_accuracy: 0.7469\n",
            "Epoch 19/30\n",
            "50/50 [==============================] - 1s 24ms/step - loss: 0.0453 - accuracy: 0.9900 - val_loss: 1.1615 - val_accuracy: 0.7393\n",
            "Epoch 20/30\n",
            "50/50 [==============================] - 1s 25ms/step - loss: 0.0402 - accuracy: 0.9918 - val_loss: 1.1458 - val_accuracy: 0.7368\n",
            "Epoch 21/30\n",
            "50/50 [==============================] - 1s 24ms/step - loss: 0.0480 - accuracy: 0.9893 - val_loss: 1.1844 - val_accuracy: 0.7393\n",
            "Epoch 22/30\n",
            "50/50 [==============================] - 1s 26ms/step - loss: 0.0458 - accuracy: 0.9837 - val_loss: 1.1778 - val_accuracy: 0.7469\n",
            "Epoch 23/30\n",
            "50/50 [==============================] - 1s 24ms/step - loss: 0.0364 - accuracy: 0.9931 - val_loss: 1.1518 - val_accuracy: 0.7494\n",
            "Epoch 24/30\n",
            "50/50 [==============================] - 1s 25ms/step - loss: 0.0456 - accuracy: 0.9881 - val_loss: 1.3205 - val_accuracy: 0.7218\n",
            "Epoch 25/30\n",
            "50/50 [==============================] - 1s 24ms/step - loss: 0.0497 - accuracy: 0.9868 - val_loss: 1.2339 - val_accuracy: 0.7393\n",
            "Epoch 26/30\n",
            "50/50 [==============================] - 1s 24ms/step - loss: 0.0271 - accuracy: 0.9944 - val_loss: 1.2678 - val_accuracy: 0.7444\n",
            "Epoch 27/30\n",
            "50/50 [==============================] - 1s 24ms/step - loss: 0.0204 - accuracy: 0.9975 - val_loss: 1.3269 - val_accuracy: 0.7368\n",
            "Epoch 28/30\n",
            "50/50 [==============================] - 1s 25ms/step - loss: 0.0095 - accuracy: 0.9994 - val_loss: 1.3668 - val_accuracy: 0.7393\n",
            "Epoch 29/30\n",
            "50/50 [==============================] - 1s 24ms/step - loss: 0.0066 - accuracy: 0.9994 - val_loss: 1.4125 - val_accuracy: 0.7419\n",
            "Epoch 30/30\n",
            "50/50 [==============================] - 1s 24ms/step - loss: 0.0041 - accuracy: 1.0000 - val_loss: 1.4581 - val_accuracy: 0.7393\n"
          ]
        },
        {
          "output_type": "display_data",
          "data": {
            "text/plain": [
              "<Figure size 432x288 with 1 Axes>"
            ],
            "image/png": "[encoded data removed]"
          },
          "metadata": {
            "needs_background": "light"
          }
        },
        {
          "output_type": "display_data",
          "data": {
            "text/plain": [
              "<Figure size 432x288 with 1 Axes>"
            ],
            "image/png": "[encoded data removed]"
          },
          "metadata": {
            "needs_background": "light"
          }
        },
        {
          "output_type": "stream",
          "name": "stdout",
          "text": [
            "[  4 281  16  25   0   0   0   0   0   0   0   0   0   0   0   0   0   0\n",
            "   0   0   0   0   0   0   0   0   0   0   0   0   0   0   0   0   0   0\n",
            "   0   0   0   0   0   0   0   0   0   0   0   0   0   0]\n",
            "I love this phone\n",
            "[0.9989479]\n",
            "\n",
            "\n",
            "[812 227 864 100 775   9 525 843   0   0   0   0   0   0   0   0   0   0\n",
            "   0   0   0   0   0   0   0   0   0   0   0   0   0   0   0   0   0   0\n",
            "   0   0   0   0   0   0   0   0   0   0   0   0   0   0]\n",
            "Everything was cold\n",
            "[0.01339652]\n",
            "\n",
            "\n",
            "[812 227 864 100 775   9 109   8 333 731  24  61   4 171  59  77   0   0\n",
            "   0   0   0   0   0   0   0   0   0   0   0   0   0   0   0   0   0   0\n",
            "   0   0   0   0   0   0   0   0   0   0   0   0   0   0]\n",
            "Everything was hot exactly as I wanted\n",
            "[0.99737036]\n",
            "\n",
            "\n",
            "[812 227 864 100 775   9 157 359 853   0   0   0   0   0   0   0   0   0\n",
            "   0   0   0   0   0   0   0   0   0   0   0   0   0   0   0   0   0   0\n",
            "   0   0   0   0   0   0   0   0   0   0   0   0   0   0]\n",
            "Everything was green\n",
            "[0.21292059]\n",
            "\n",
            "\n",
            "[  1 109 228 540 237 635 241 423 340  89 298   0   0   0   0   0   0   0\n",
            "   0   0   0   0   0   0   0   0   0   0   0   0   0   0   0   0   0   0\n",
            "   0   0   0   0   0   0   0   0   0   0   0   0   0   0]\n",
            "the host seated us immediately\n",
            "[0.9969517]\n",
            "\n",
            "\n",
            "[154 242  47 635 341  12 569 547 147 319 775 125  85   0   0   0   0   0\n",
            "   0   0   0   0   0   0   0   0   0   0   0   0   0   0   0   0   0   0\n",
            "   0   0   0   0   0   0   0   0   0   0   0   0   0   0]\n",
            "they gave us free chocolate cake\n",
            "[0.99659014]\n",
            "\n",
            "\n",
            "[158 190 853 782   8 607 775 210 232 146 775 470  67 305 101  15   1 328\n",
            " 296  26  19   1 661 641 195   0   0   0   0   0   0   0   0   0   0   0\n",
            "   0   0   0   0   0   0   0   0   0   0   0   0   0   0]\n",
            "we couldn't hear each other talk because of the shouting in the kitchen\n",
            "[3.3616372e-05]\n",
            "\n",
            "\n",
            "[  4 328 503 775  31 277 563 859   0   0   0   0   0   0   0   0   0   0\n",
            "   0   0   0   0   0   0   0   0   0   0   0   0   0   0   0   0   0   0\n",
            "   0   0   0   0   0   0   0   0   0   0   0   0   0   0]\n",
            "I should have slept\n",
            "[0.61421627]\n",
            "\n",
            "\n",
            "[291  29 782   3 193 304  20  32 775   6 174 130  17 285 444 789   0   0\n",
            "   0   0   0   0   0   0   0   0   0   0   0   0   0   0   0   0   0   0\n",
            "   0   0   0   0   0   0   0   0   0   0   0   0   0   0]\n",
            "There's no better place to go out for dinner.\n",
            "[0.0242609]\n",
            "\n",
            "\n",
            "[247 188  11 668 156  96 138 775  19 315 379   0   0   0   0   0   0   0\n",
            "   0   0   0   0   0   0   0   0   0   0   0   0   0   0   0   0   0   0\n",
            "   0   0   0   0   0   0   0   0   0   0   0   0   0   0]\n",
            "My friend found hair in her food\n",
            "[0.57882404]\n",
            "\n",
            "\n"
          ]
        }
      ],
      "source": [
        "# Define the model\n",
        "model_bidi_lstm = tf.keras.Sequential([\n",
        "    tf.keras.layers.Embedding(vocab_size, embedding_dim, input_length=max_length),\n",
        "    tf.keras.layers.Bidirectional(tf.keras.layers.LSTM(embedding_dim)), \n",
        "    tf.keras.layers.Dense(6, activation='relu'), \n",
        "    tf.keras.layers.Dense(1, activation='sigmoid')\n",
        "])\n",
        "\n",
        "# Compile and train the model and then show the predictions for our extra sentences\n",
        "fit_model_and_show_results(model_bidi_lstm, fake_reviews)\n"
      ]
    },
    {
      "cell_type": "markdown",
      "metadata": {
        "id": "QsxKPbCnPJTj"
      },
      "source": [
        "# Use multiple bidirectional layers\n",
        "\n",
        "Now let's see if we get any improvements from adding another Bidirectional LSTM layer to the model.\n",
        "\n",
        "Notice that the first Bidirectionl LSTM layer returns a sequence."
      ]
    },
    {
      "cell_type": "code",
      "execution_count": 22,
      "metadata": {
        "id": "3N6Zul47PMED",
        "colab": {
          "base_uri": "https://localhost:8080/",
          "height": 1000
        },
        "outputId": "de4f1ef7-f219-464f-fe6c-9d7a47ed0fd1"
      },
      "outputs": [
        {
          "output_type": "stream",
          "name": "stdout",
          "text": [
            "Model: \"sequential_2\"\n",
            "_________________________________________________________________\n",
            " Layer (type)                Output Shape              Param #   \n",
            "=================================================================\n",
            " embedding_2 (Embedding)     (None, 50, 16)            16000     \n",
            "                                                                 \n",
            " bidirectional_1 (Bidirectio  (None, 50, 32)           4224      \n",
            " nal)                                                            \n",
            "                                                                 \n",
            " bidirectional_2 (Bidirectio  (None, 32)               6272      \n",
            " nal)                                                            \n",
            "                                                                 \n",
            " dense_4 (Dense)             (None, 6)                 198       \n",
            "                                                                 \n",
            " dense_5 (Dense)             (None, 1)                 7         \n",
            "                                                                 \n",
            "=================================================================\n",
            "Total params: 26,701\n",
            "Trainable params: 26,701\n",
            "Non-trainable params: 0\n",
            "_________________________________________________________________\n",
            "Epoch 1/30\n",
            "50/50 [==============================] - 11s 82ms/step - loss: 0.6930 - accuracy: 0.5179 - val_loss: 0.6935 - val_accuracy: 0.4211\n",
            "Epoch 2/30\n",
            "50/50 [==============================] - 2s 49ms/step - loss: 0.6905 - accuracy: 0.5386 - val_loss: 0.6793 - val_accuracy: 0.6391\n",
            "Epoch 3/30\n",
            "50/50 [==============================] - 2s 49ms/step - loss: 0.5833 - accuracy: 0.7238 - val_loss: 0.5650 - val_accuracy: 0.7093\n",
            "Epoch 4/30\n",
            "50/50 [==============================] - 2s 50ms/step - loss: 0.4155 - accuracy: 0.8424 - val_loss: 0.5443 - val_accuracy: 0.7368\n",
            "Epoch 5/30\n",
            "50/50 [==============================] - 2s 49ms/step - loss: 0.3025 - accuracy: 0.8964 - val_loss: 0.5235 - val_accuracy: 0.7744\n",
            "Epoch 6/30\n",
            "50/50 [==============================] - 2s 49ms/step - loss: 0.2378 - accuracy: 0.9222 - val_loss: 0.6474 - val_accuracy: 0.7143\n",
            "Epoch 7/30\n",
            "50/50 [==============================] - 2s 49ms/step - loss: 0.2000 - accuracy: 0.9366 - val_loss: 0.6909 - val_accuracy: 0.7393\n",
            "Epoch 8/30\n",
            "50/50 [==============================] - 2s 48ms/step - loss: 0.1475 - accuracy: 0.9605 - val_loss: 0.7588 - val_accuracy: 0.7343\n",
            "Epoch 9/30\n",
            "50/50 [==============================] - 2s 49ms/step - loss: 0.1248 - accuracy: 0.9667 - val_loss: 0.8212 - val_accuracy: 0.7318\n",
            "Epoch 10/30\n",
            "50/50 [==============================] - 2s 49ms/step - loss: 0.1219 - accuracy: 0.9711 - val_loss: 0.7853 - val_accuracy: 0.7619\n",
            "Epoch 11/30\n",
            "50/50 [==============================] - 2s 49ms/step - loss: 0.1279 - accuracy: 0.9636 - val_loss: 0.7665 - val_accuracy: 0.7343\n",
            "Epoch 12/30\n",
            "50/50 [==============================] - 2s 50ms/step - loss: 0.1184 - accuracy: 0.9692 - val_loss: 0.7881 - val_accuracy: 0.7293\n",
            "Epoch 13/30\n",
            "50/50 [==============================] - 2s 50ms/step - loss: 0.0866 - accuracy: 0.9818 - val_loss: 0.8794 - val_accuracy: 0.7444\n",
            "Epoch 14/30\n",
            "50/50 [==============================] - 2s 49ms/step - loss: 0.0800 - accuracy: 0.9837 - val_loss: 0.9500 - val_accuracy: 0.7368\n",
            "Epoch 15/30\n",
            "50/50 [==============================] - 2s 49ms/step - loss: 0.0734 - accuracy: 0.9849 - val_loss: 0.9198 - val_accuracy: 0.7519\n",
            "Epoch 16/30\n",
            "50/50 [==============================] - 2s 49ms/step - loss: 0.0857 - accuracy: 0.9799 - val_loss: 0.9396 - val_accuracy: 0.7343\n",
            "Epoch 17/30\n",
            "50/50 [==============================] - 2s 49ms/step - loss: 0.0980 - accuracy: 0.9736 - val_loss: 0.9671 - val_accuracy: 0.7444\n",
            "Epoch 18/30\n",
            "50/50 [==============================] - 2s 48ms/step - loss: 0.1051 - accuracy: 0.9699 - val_loss: 0.9229 - val_accuracy: 0.7343\n",
            "Epoch 19/30\n",
            "50/50 [==============================] - 2s 49ms/step - loss: 0.0740 - accuracy: 0.9843 - val_loss: 0.9368 - val_accuracy: 0.7444\n",
            "Epoch 20/30\n",
            "50/50 [==============================] - 2s 49ms/step - loss: 0.0723 - accuracy: 0.9849 - val_loss: 0.8829 - val_accuracy: 0.7444\n",
            "Epoch 21/30\n",
            "50/50 [==============================] - 2s 49ms/step - loss: 0.0547 - accuracy: 0.9906 - val_loss: 1.0463 - val_accuracy: 0.7494\n",
            "Epoch 22/30\n",
            "50/50 [==============================] - 2s 49ms/step - loss: 0.0482 - accuracy: 0.9918 - val_loss: 1.1085 - val_accuracy: 0.7343\n",
            "Epoch 23/30\n",
            "50/50 [==============================] - 2s 49ms/step - loss: 0.0473 - accuracy: 0.9918 - val_loss: 1.1412 - val_accuracy: 0.7368\n",
            "Epoch 24/30\n",
            "50/50 [==============================] - 2s 49ms/step - loss: 0.0466 - accuracy: 0.9918 - val_loss: 1.1299 - val_accuracy: 0.7419\n",
            "Epoch 25/30\n",
            "50/50 [==============================] - 2s 48ms/step - loss: 0.0464 - accuracy: 0.9918 - val_loss: 1.1321 - val_accuracy: 0.7469\n",
            "Epoch 26/30\n",
            "50/50 [==============================] - 2s 49ms/step - loss: 0.0459 - accuracy: 0.9918 - val_loss: 1.1563 - val_accuracy: 0.7419\n",
            "Epoch 27/30\n",
            "50/50 [==============================] - 2s 49ms/step - loss: 0.0573 - accuracy: 0.9881 - val_loss: 1.0881 - val_accuracy: 0.7293\n",
            "Epoch 28/30\n",
            "50/50 [==============================] - 2s 49ms/step - loss: 0.0793 - accuracy: 0.9780 - val_loss: 1.0794 - val_accuracy: 0.7519\n",
            "Epoch 29/30\n",
            "50/50 [==============================] - 2s 49ms/step - loss: 0.0755 - accuracy: 0.9831 - val_loss: 1.0488 - val_accuracy: 0.7444\n",
            "Epoch 30/30\n",
            "50/50 [==============================] - 2s 48ms/step - loss: 0.0901 - accuracy: 0.9743 - val_loss: 0.8575 - val_accuracy: 0.7544\n"
          ]
        },
        {
          "output_type": "display_data",
          "data": {
            "text/plain": [
              "<Figure size 432x288 with 1 Axes>"
            ],
            "image/png": "[encoded data removed]"
          },
          "metadata": {
            "needs_background": "light"
          }
        },
        {
          "output_type": "display_data",
          "data": {
            "text/plain": [
              "<Figure size 432x288 with 1 Axes>"
            ],
            "image/png": "[encoded data removed]"
          },
          "metadata": {
            "needs_background": "light"
          }
        },
        {
          "output_type": "stream",
          "name": "stdout",
          "text": [
            "[  4 281  16  25   0   0   0   0   0   0   0   0   0   0   0   0   0   0\n",
            "   0   0   0   0   0   0   0   0   0   0   0   0   0   0   0   0   0   0\n",
            "   0   0   0   0   0   0   0   0   0   0   0   0   0   0]\n",
            "I love this phone\n",
            "[0.9916448]\n",
            "\n",
            "\n",
            "[812 227 864 100 775   9 525 843   0   0   0   0   0   0   0   0   0   0\n",
            "   0   0   0   0   0   0   0   0   0   0   0   0   0   0   0   0   0   0\n",
            "   0   0   0   0   0   0   0   0   0   0   0   0   0   0]\n",
            "Everything was cold\n",
            "[0.01690841]\n",
            "\n",
            "\n",
            "[812 227 864 100 775   9 109   8 333 731  24  61   4 171  59  77   0   0\n",
            "   0   0   0   0   0   0   0   0   0   0   0   0   0   0   0   0   0   0\n",
            "   0   0   0   0   0   0   0   0   0   0   0   0   0   0]\n",
            "Everything was hot exactly as I wanted\n",
            "[0.5905728]\n",
            "\n",
            "\n",
            "[812 227 864 100 775   9 157 359 853   0   0   0   0   0   0   0   0   0\n",
            "   0   0   0   0   0   0   0   0   0   0   0   0   0   0   0   0   0   0\n",
            "   0   0   0   0   0   0   0   0   0   0   0   0   0   0]\n",
            "Everything was green\n",
            "[0.01081971]\n",
            "\n",
            "\n",
            "[  1 109 228 540 237 635 241 423 340  89 298   0   0   0   0   0   0   0\n",
            "   0   0   0   0   0   0   0   0   0   0   0   0   0   0   0   0   0   0\n",
            "   0   0   0   0   0   0   0   0   0   0   0   0   0   0]\n",
            "the host seated us immediately\n",
            "[0.81609726]\n",
            "\n",
            "\n",
            "[154 242  47 635 341  12 569 547 147 319 775 125  85   0   0   0   0   0\n",
            "   0   0   0   0   0   0   0   0   0   0   0   0   0   0   0   0   0   0\n",
            "   0   0   0   0   0   0   0   0   0   0   0   0   0   0]\n",
            "they gave us free chocolate cake\n",
            "[0.9897948]\n",
            "\n",
            "\n",
            "[158 190 853 782   8 607 775 210 232 146 775 470  67 305 101  15   1 328\n",
            " 296  26  19   1 661 641 195   0   0   0   0   0   0   0   0   0   0   0\n",
            "   0   0   0   0   0   0   0   0   0   0   0   0   0   0]\n",
            "we couldn't hear each other talk because of the shouting in the kitchen\n",
            "[0.02047176]\n",
            "\n",
            "\n",
            "[  4 328 503 775  31 277 563 859   0   0   0   0   0   0   0   0   0   0\n",
            "   0   0   0   0   0   0   0   0   0   0   0   0   0   0   0   0   0   0\n",
            "   0   0   0   0   0   0   0   0   0   0   0   0   0   0]\n",
            "I should have slept\n",
            "[0.5211356]\n",
            "\n",
            "\n",
            "[291  29 782   3 193 304  20  32 775   6 174 130  17 285 444 789   0   0\n",
            "   0   0   0   0   0   0   0   0   0   0   0   0   0   0   0   0   0   0\n",
            "   0   0   0   0   0   0   0   0   0   0   0   0   0   0]\n",
            "There's no better place to go out for dinner.\n",
            "[0.01061875]\n",
            "\n",
            "\n",
            "[247 188  11 668 156  96 138 775  19 315 379   0   0   0   0   0   0   0\n",
            "   0   0   0   0   0   0   0   0   0   0   0   0   0   0   0   0   0   0\n",
            "   0   0   0   0   0   0   0   0   0   0   0   0   0   0]\n",
            "My friend found hair in her food\n",
            "[0.18699278]\n",
            "\n",
            "\n"
          ]
        }
      ],
      "source": [
        "model_multiple_bidi_lstm = tf.keras.Sequential([\n",
        "    tf.keras.layers.Embedding(vocab_size, embedding_dim, input_length=max_length),\n",
        "    tf.keras.layers.Bidirectional(tf.keras.layers.LSTM(embedding_dim, \n",
        "                                                       return_sequences=True)), \n",
        "    tf.keras.layers.Bidirectional(tf.keras.layers.LSTM(embedding_dim)),\n",
        "    tf.keras.layers.Dense(6, activation='relu'),\n",
        "    tf.keras.layers.Dense(1, activation='sigmoid')\n",
        "])\n",
        "\n",
        "fit_model_and_show_results(model_multiple_bidi_lstm, fake_reviews)"
      ]
    },
    {
      "cell_type": "markdown",
      "metadata": {
        "id": "ABVYYPwba8Hx"
      },
      "source": [
        "# Compare predictions for all the models\n",
        "\n",
        "It can be hard to see which model gives a better prediction for different reviews when you examine each model separately. So for comparison purposes, here we define some more reviews and print out the predictions that each of the three models gives for each review:\n",
        "\n",
        "*   Embeddings and a Global Average Pooling layer\n",
        "*   Embeddings and a Bidirectional LSTM layer\n",
        "*   Embeddings and two Bidirectional LSTM layers\n",
        "\n",
        "The results are not always what you might expect. The input dataset is fairly small, it has less than 2000 reviews. Some of the reviews are fairly short, and some of the short ones are fairly repetitive which reduces their impact on improving the  model, such as these two reviews:\n",
        "\n",
        "*   Bad Quality.\n",
        "*   Low Quality.\n",
        "\n",
        "Feel free to add more reviews of your own, or change the reviews. The results will depend on the combination of words in the reviews, and how well they match to reviews in the training set. \n",
        "\n",
        "How do the different models handle things like \"wasn't good\" which contains a positive word (good) but is a poor review?\n"
      ]
    },
    {
      "cell_type": "code",
      "execution_count": 23,
      "metadata": {
        "id": "6XebrXt0jtOy"
      },
      "outputs": [],
      "source": [
        "my_reviews =[\"lovely\", \"dreadful\", \"stay away\",\n",
        "             \"everything was hot exactly as I wanted\",\n",
        "             \"everything was not exactly as I wanted\",\n",
        "             \"they gave us free chocolate cake\",\n",
        "             \"I've never eaten anything so spicy in my life, my throat burned for hours\",\n",
        "             \"for a phone that is as expensive as this one I expect it to be much easier to use than this thing is\",\n",
        "             \"we left there very full for a low price so I'd say you just can't go wrong at this place\",\n",
        "             \"that place does not have quality meals and it isn't a good place to go for dinner\",\n",
        "             ]"
      ]
    },
    {
      "cell_type": "code",
      "execution_count": 24,
      "metadata": {
        "id": "tRWGjkJLkY2y",
        "colab": {
          "base_uri": "https://localhost:8080/"
        },
        "outputId": "8d9e00f4-bd4a-474d-9a15-2c544f192baf"
      },
      "outputs": [
        {
          "output_type": "stream",
          "name": "stdout",
          "text": [
            "===================================\n",
            " Embeddings only:\n",
            " ===================================\n",
            "lovely\n",
            "[0.92314893]\n",
            "\n",
            "\n",
            "dreadful\n",
            "[0.27333036]\n",
            "\n",
            "\n",
            "stay away\n",
            "[0.6269547]\n",
            "\n",
            "\n",
            "everything was hot exactly as I wanted\n",
            "[0.7640875]\n",
            "\n",
            "\n",
            "everything was not exactly as I wanted\n",
            "[0.45559925]\n",
            "\n",
            "\n",
            "they gave us free chocolate cake\n",
            "[0.7456764]\n",
            "\n",
            "\n",
            "I've never eaten anything so spicy in my life, my throat burned for hours\n",
            "[0.04902289]\n",
            "\n",
            "\n",
            "for a phone that is as expensive as this one I expect it to be much easier to use than this thing is\n",
            "[0.36028025]\n",
            "\n",
            "\n",
            "we left there very full for a low price so I'd say you just can't go wrong at this place\n",
            "[0.7609077]\n",
            "\n",
            "\n",
            "that place does not have quality meals and it isn't a good place to go for dinner\n",
            "[0.8045622]\n",
            "\n",
            "\n"
          ]
        }
      ],
      "source": [
        "print(\"===================================\\n\",\"Embeddings only:\\n\", \"===================================\",)\n",
        "predict_review(model, my_reviews, show_padded_sequence=False)"
      ]
    },
    {
      "cell_type": "code",
      "execution_count": 25,
      "metadata": {
        "id": "G2FJR3IVBt30",
        "colab": {
          "base_uri": "https://localhost:8080/"
        },
        "outputId": "bb7db455-f3b6-4d82-d3ca-192bdb347005"
      },
      "outputs": [
        {
          "output_type": "stream",
          "name": "stdout",
          "text": [
            "===================================\n",
            " With a single bidirectional LSTM:\n",
            " ===================================\n",
            "lovely\n",
            "[0.99794525]\n",
            "\n",
            "\n",
            "dreadful\n",
            "[0.01532114]\n",
            "\n",
            "\n",
            "stay away\n",
            "[0.7556639]\n",
            "\n",
            "\n",
            "everything was hot exactly as I wanted\n",
            "[0.9973363]\n",
            "\n",
            "\n",
            "everything was not exactly as I wanted\n",
            "[0.93760806]\n",
            "\n",
            "\n",
            "they gave us free chocolate cake\n",
            "[0.99659014]\n",
            "\n",
            "\n",
            "I've never eaten anything so spicy in my life, my throat burned for hours\n",
            "[0.00348271]\n",
            "\n",
            "\n",
            "for a phone that is as expensive as this one I expect it to be much easier to use than this thing is\n",
            "[0.9970336]\n",
            "\n",
            "\n",
            "we left there very full for a low price so I'd say you just can't go wrong at this place\n",
            "[0.9967438]\n",
            "\n",
            "\n",
            "that place does not have quality meals and it isn't a good place to go for dinner\n",
            "[0.20425935]\n",
            "\n",
            "\n"
          ]
        }
      ],
      "source": [
        "print(\"===================================\\n\", \"With a single bidirectional LSTM:\\n\", \"===================================\")\n",
        "predict_review(model_bidi_lstm, my_reviews, show_padded_sequence=False)"
      ]
    },
    {
      "cell_type": "code",
      "execution_count": 26,
      "metadata": {
        "id": "81v1r3Y2BwvC",
        "colab": {
          "base_uri": "https://localhost:8080/"
        },
        "outputId": "ed2c64c5-bc0d-4ca7-f05c-f40c5de57915"
      },
      "outputs": [
        {
          "output_type": "stream",
          "name": "stdout",
          "text": [
            "===================================\n",
            " With two bidirectional LSTMs:\n",
            " ===================================\n",
            "lovely\n",
            "[0.9919813]\n",
            "\n",
            "\n",
            "dreadful\n",
            "[0.00986054]\n",
            "\n",
            "\n",
            "stay away\n",
            "[0.0096538]\n",
            "\n",
            "\n",
            "everything was hot exactly as I wanted\n",
            "[0.9845599]\n",
            "\n",
            "\n",
            "everything was not exactly as I wanted\n",
            "[0.01056616]\n",
            "\n",
            "\n",
            "they gave us free chocolate cake\n",
            "[0.9897948]\n",
            "\n",
            "\n",
            "I've never eaten anything so spicy in my life, my throat burned for hours\n",
            "[0.01042383]\n",
            "\n",
            "\n",
            "for a phone that is as expensive as this one I expect it to be much easier to use than this thing is\n",
            "[0.01903345]\n",
            "\n",
            "\n",
            "we left there very full for a low price so I'd say you just can't go wrong at this place\n",
            "[0.9892726]\n",
            "\n",
            "\n",
            "that place does not have quality meals and it isn't a good place to go for dinner\n",
            "[0.08827649]\n",
            "\n",
            "\n"
          ]
        }
      ],
      "source": [
        "print(\"===================================\\n\",\"With two bidirectional LSTMs:\\n\", \"===================================\")\n",
        "predict_review(model_multiple_bidi_lstm, my_reviews, show_padded_sequence=False)"
      ]
    },
    {
      "cell_type": "code",
      "source": [
        ""
      ],
      "metadata": {
        "id": "XHC3knFXRmVL"
      },
      "execution_count": null,
      "outputs": []
    }
  ],
  "metadata": {
    "accelerator": "GPU",
    "colab": {
      "name": "l10c01_nlp_lstms_with_reviews_subwords_dataset.ipynb",
      "provenance": []
    },
    "kernelspec": {
      "display_name": "Python 3",
      "name": "python3"
    }
  },
  "nbformat": 4,
  "nbformat_minor": 0
}