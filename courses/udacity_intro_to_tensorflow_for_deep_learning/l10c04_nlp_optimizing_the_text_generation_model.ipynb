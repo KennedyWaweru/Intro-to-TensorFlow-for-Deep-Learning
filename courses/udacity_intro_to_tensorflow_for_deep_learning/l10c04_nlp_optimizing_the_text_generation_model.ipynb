{
  "cells": [
    {
      "cell_type": "markdown",
      "metadata": {
        "id": "punL79CN7Ox6"
      },
      "source": [
        "##### Copyright 2020 The TensorFlow Authors."
      ]
    },
    {
      "cell_type": "code",
      "execution_count": null,
      "metadata": {
        "cellView": "form",
        "id": "_ckMIh7O7s6D"
      },
      "outputs": [],
      "source": [
        "#@title Licensed under the Apache License, Version 2.0 (the \"License\");\n",
        "# you may not use this file except in compliance with the License.\n",
        "# You may obtain a copy of the License at\n",
        "#\n",
        "# https://www.apache.org/licenses/LICENSE-2.0\n",
        "#\n",
        "# Unless required by applicable law or agreed to in writing, software\n",
        "# distributed under the License is distributed on an \"AS IS\" BASIS,\n",
        "# WITHOUT WARRANTIES OR CONDITIONS OF ANY KIND, either express or implied.\n",
        "# See the License for the specific language governing permissions and\n",
        "# limitations under the License."
      ]
    },
    {
      "cell_type": "markdown",
      "metadata": {
        "id": "Ph5eir3Pf-3z"
      },
      "source": [
        "# Optimizing the Text Generation Model"
      ]
    },
    {
      "cell_type": "markdown",
      "metadata": {
        "id": "S5Uhzt6vVIB2"
      },
      "source": [
        "<table class=\"tfo-notebook-buttons\" align=\"left\">\n",
        "  <td>\n",
        "    <a target=\"_blank\" href=\"https://colab.research.google.com/github/tensorflow/examples/blob/master/courses/udacity_intro_to_tensorflow_for_deep_learning/l10c04_nlp_optimizing_the_text_generation_model.ipynb\"><img src=\"https://www.tensorflow.org/images/colab_logo_32px.png\" />Run in Google Colab</a>\n",
        "  </td>\n",
        "  <td>\n",
        "    <a target=\"_blank\" href=\"https://github.com/tensorflow/examples/blob/master/courses/udacity_intro_to_tensorflow_for_deep_learning/l10c04_nlp_optimizing_the_text_generation_model.ipynb\"><img src=\"https://www.tensorflow.org/images/GitHub-Mark-32px.png\" />View source on GitHub</a>\n",
        "  </td>\n",
        "</table>"
      ]
    },
    {
      "cell_type": "markdown",
      "metadata": {
        "id": "dCxhW3mtLmfb"
      },
      "source": [
        "You've already done some amazing work with generating new songs, but so far we've seen some issues with repetition and a fair amount of incoherence. By using more data and further tweaking the model, you'll be able to get improved results. We'll once again use the [Kaggle Song Lyrics Dataset](https://www.kaggle.com/mousehead/songlyrics) here."
      ]
    },
    {
      "cell_type": "markdown",
      "metadata": {
        "id": "4aHK2CYygXom"
      },
      "source": [
        "## Import TensorFlow and related functions"
      ]
    },
    {
      "cell_type": "code",
      "execution_count": 1,
      "metadata": {
        "id": "2LmLTREBf5ng"
      },
      "outputs": [],
      "source": [
        "import tensorflow as tf\n",
        "\n",
        "from tensorflow.keras.preprocessing.text import Tokenizer\n",
        "from tensorflow.keras.preprocessing.sequence import pad_sequences\n",
        "\n",
        "# Other imports for processing data\n",
        "import string\n",
        "import numpy as np\n",
        "import pandas as pd"
      ]
    },
    {
      "cell_type": "markdown",
      "metadata": {
        "id": "GmLTO_dpgge9"
      },
      "source": [
        "## Get the Dataset\n",
        "\n",
        "As noted above, we'll utilize the [Song Lyrics dataset](https://www.kaggle.com/mousehead/songlyrics) on Kaggle again."
      ]
    },
    {
      "cell_type": "code",
      "execution_count": 2,
      "metadata": {
        "id": "4Bf5FVHfganK",
        "outputId": "ec2e9e6f-9cc1-47fa-ec07-b4798f2e75fa",
        "colab": {
          "base_uri": "https://localhost:8080/"
        }
      },
      "outputs": [
        {
          "output_type": "stream",
          "name": "stdout",
          "text": [
            "--2022-05-11 10:54:57--  https://drive.google.com/uc?id=1LiJFZd41ofrWoBtW-pMYsfz1w8Ny0Bj8\n",
            "Resolving drive.google.com (drive.google.com)... 64.233.183.113, 64.233.183.102, 64.233.183.100, ...\n",
            "Connecting to drive.google.com (drive.google.com)|64.233.183.113|:443... connected.\n",
            "HTTP request sent, awaiting response... 303 See Other\n",
            "Location: https://doc-04-ak-docs.googleusercontent.com/docs/securesc/ha0ro937gcuc7l7deffksulhg5h7mbp1/qhmp7hnaeo9lmmig40b9i80j8u96a4hh/1652266425000/11118900490791463723/*/1LiJFZd41ofrWoBtW-pMYsfz1w8Ny0Bj8 [following]\n",
            "Warning: wildcards not supported in HTTP.\n",
            "--2022-05-11 10:54:59--  https://doc-04-ak-docs.googleusercontent.com/docs/securesc/ha0ro937gcuc7l7deffksulhg5h7mbp1/qhmp7hnaeo9lmmig40b9i80j8u96a4hh/1652266425000/11118900490791463723/*/1LiJFZd41ofrWoBtW-pMYsfz1w8Ny0Bj8\n",
            "Resolving doc-04-ak-docs.googleusercontent.com (doc-04-ak-docs.googleusercontent.com)... 173.194.197.132, 2607:f8b0:4001:c1b::84\n",
            "Connecting to doc-04-ak-docs.googleusercontent.com (doc-04-ak-docs.googleusercontent.com)|173.194.197.132|:443... connected.\n",
            "HTTP request sent, awaiting response... 200 OK\n",
            "Length: 72436445 (69M) [text/csv]\n",
            "Saving to: ‘/tmp/songdata.csv’\n",
            "\n",
            "/tmp/songdata.csv   100%[===================>]  69.08M   215MB/s    in 0.3s    \n",
            "\n",
            "2022-05-11 10:55:00 (215 MB/s) - ‘/tmp/songdata.csv’ saved [72436445/72436445]\n",
            "\n"
          ]
        }
      ],
      "source": [
        "!wget --no-check-certificate \\\n",
        "    https://drive.google.com/uc?id=1LiJFZd41ofrWoBtW-pMYsfz1w8Ny0Bj8 \\\n",
        "    -O /tmp/songdata.csv"
      ]
    },
    {
      "cell_type": "markdown",
      "metadata": {
        "id": "Jz9x-7dWihxx"
      },
      "source": [
        "## 250 Songs\n",
        "\n",
        "Now we've seen a model trained on just a small sample of songs, and how this often leads to repetition as you get further along in trying to generate new text. Let's switch to using the 250 songs instead, and see if our output improves. This will actually be nearly 10K lines of lyrics, which should be sufficient.\n",
        "\n",
        "Note that we won't use the full dataset here as it will take up quite a bit of RAM and processing time, but you're welcome to try doing so on your own later. If interested, you'll likely want to use only some of the more common words for the Tokenizer, which will help shrink processing time and memory needed (or else you'd have an output array hundreds of thousands of words long)."
      ]
    },
    {
      "cell_type": "markdown",
      "metadata": {
        "id": "nWbMN_19jfRT"
      },
      "source": [
        "### Preprocessing"
      ]
    },
    {
      "cell_type": "code",
      "execution_count": 3,
      "metadata": {
        "id": "LRmPPJegovBe"
      },
      "outputs": [],
      "source": [
        "def tokenize_corpus(corpus, num_words=-1):\n",
        "  # Fit a Tokenizer on the corpus\n",
        "  if num_words > -1:\n",
        "    tokenizer = Tokenizer(num_words=num_words)\n",
        "  else:\n",
        "    tokenizer = Tokenizer()\n",
        "  tokenizer.fit_on_texts(corpus)\n",
        "  return tokenizer\n",
        "\n",
        "def create_lyrics_corpus(dataset, field):\n",
        "  # Remove all other punctuation\n",
        "  dataset[field] = dataset[field].str.replace('[{}]'.format(string.punctuation), '')\n",
        "  # Make it lowercase\n",
        "  dataset[field] = dataset[field].str.lower()\n",
        "  # Make it one long string to split by line\n",
        "  lyrics = dataset[field].str.cat()\n",
        "  corpus = lyrics.split('\\n')\n",
        "  # Remove any trailing whitespace\n",
        "  for l in range(len(corpus)):\n",
        "    corpus[l] = corpus[l].rstrip()\n",
        "  # Remove any empty lines\n",
        "  corpus = [l for l in corpus if l != '']\n",
        "\n",
        "  return corpus"
      ]
    },
    {
      "cell_type": "code",
      "execution_count": 4,
      "metadata": {
        "id": "kIGedF3XjHj4",
        "outputId": "2c60e197-b5de-4dc9-e972-e562acca2517",
        "colab": {
          "base_uri": "https://localhost:8080/"
        }
      },
      "outputs": [
        {
          "output_type": "stream",
          "name": "stderr",
          "text": [
            "/usr/local/lib/python3.7/dist-packages/ipykernel_launcher.py:12: FutureWarning: The default value of regex will change from True to False in a future version.\n",
            "  if sys.path[0] == '':\n"
          ]
        },
        {
          "output_type": "stream",
          "name": "stdout",
          "text": [
            "2000\n"
          ]
        }
      ],
      "source": [
        "def tokenize_corpus(corpus, num_words=-1):\n",
        "  # Fit a Tokenizer on the corpus\n",
        "  if num_words > -1:\n",
        "    tokenizer = Tokenizer(num_words=num_words)\n",
        "  else:\n",
        "    tokenizer = Tokenizer()\n",
        "  tokenizer.fit_on_texts(corpus)\n",
        "  return tokenizer\n",
        "\n",
        "# Read the dataset from csv - this time with 250 songs\n",
        "dataset = pd.read_csv('/tmp/songdata.csv', dtype=str)[:300]\n",
        "# Create the corpus using the 'text' column containing lyrics\n",
        "corpus = create_lyrics_corpus(dataset, 'text')\n",
        "# Tokenize the corpus\n",
        "tokenizer = tokenize_corpus(corpus, num_words=2000)\n",
        "total_words = tokenizer.num_words\n",
        "\n",
        "# There should be a lot more words now\n",
        "print(total_words)"
      ]
    },
    {
      "cell_type": "markdown",
      "metadata": {
        "id": "quoDmw_FkNBA"
      },
      "source": [
        "### Create Sequences and Labels"
      ]
    },
    {
      "cell_type": "code",
      "execution_count": 5,
      "metadata": {
        "id": "kkLAf3HmkPSo"
      },
      "outputs": [],
      "source": [
        "sequences = []\n",
        "for line in corpus:\n",
        "\ttoken_list = tokenizer.texts_to_sequences([line])[0]\n",
        "\tfor i in range(1, len(token_list)):\n",
        "\t\tn_gram_sequence = token_list[:i+1]\n",
        "\t\tsequences.append(n_gram_sequence)\n",
        "\n",
        "# Pad sequences for equal input length \n",
        "max_sequence_len = max([len(seq) for seq in sequences])\n",
        "sequences = np.array(pad_sequences(sequences, maxlen=max_sequence_len, padding='pre'))\n",
        "\n",
        "# Split sequences between the \"input\" sequence and \"output\" predicted word\n",
        "input_sequences, labels = sequences[:,:-1], sequences[:,-1]\n",
        "# One-hot encode the labels\n",
        "one_hot_labels = tf.keras.utils.to_categorical(labels, num_classes=total_words)"
      ]
    },
    {
      "cell_type": "markdown",
      "metadata": {
        "id": "cECbqT-blMk-"
      },
      "source": [
        "### Train a (Better) Text Generation Model\n",
        "\n",
        "With more data, we'll cut off after 100 epochs to avoid keeping you here all day. You'll also want to change your runtime type to GPU if you haven't already (you'll need to re-run the above cells if you change runtimes)."
      ]
    },
    {
      "cell_type": "code",
      "execution_count": 6,
      "metadata": {
        "id": "7nHOp6uWlP_P",
        "outputId": "a9b565ee-043f-42db-f720-4fd06a834ca7",
        "colab": {
          "base_uri": "https://localhost:8080/"
        }
      },
      "outputs": [
        {
          "output_type": "stream",
          "name": "stdout",
          "text": [
            "Epoch 1/100\n",
            "1724/1724 [==============================] - 31s 14ms/step - loss: 5.9262 - accuracy: 0.0469\n",
            "Epoch 2/100\n",
            "1724/1724 [==============================] - 24s 14ms/step - loss: 5.5859 - accuracy: 0.0582\n",
            "Epoch 3/100\n",
            "1724/1724 [==============================] - 23s 14ms/step - loss: 5.3569 - accuracy: 0.0873\n",
            "Epoch 4/100\n",
            "1724/1724 [==============================] - 23s 13ms/step - loss: 5.1911 - accuracy: 0.1069\n",
            "Epoch 5/100\n",
            "1724/1724 [==============================] - 23s 13ms/step - loss: 5.0564 - accuracy: 0.1183\n",
            "Epoch 6/100\n",
            "1724/1724 [==============================] - 23s 14ms/step - loss: 4.8915 - accuracy: 0.1307\n",
            "Epoch 7/100\n",
            "1724/1724 [==============================] - 23s 14ms/step - loss: 4.7330 - accuracy: 0.1473\n",
            "Epoch 8/100\n",
            "1724/1724 [==============================] - 23s 14ms/step - loss: 4.5921 - accuracy: 0.1627\n",
            "Epoch 9/100\n",
            "1724/1724 [==============================] - 23s 14ms/step - loss: 4.4612 - accuracy: 0.1775\n",
            "Epoch 10/100\n",
            "1724/1724 [==============================] - 23s 13ms/step - loss: 4.3399 - accuracy: 0.1926\n",
            "Epoch 11/100\n",
            "1724/1724 [==============================] - 23s 13ms/step - loss: 4.2298 - accuracy: 0.2035\n",
            "Epoch 12/100\n",
            "1724/1724 [==============================] - 23s 13ms/step - loss: 4.1321 - accuracy: 0.2160\n",
            "Epoch 13/100\n",
            "1724/1724 [==============================] - 23s 13ms/step - loss: 4.0427 - accuracy: 0.2286\n",
            "Epoch 14/100\n",
            "1724/1724 [==============================] - 23s 14ms/step - loss: 3.9637 - accuracy: 0.2372\n",
            "Epoch 15/100\n",
            "1724/1724 [==============================] - 23s 14ms/step - loss: 3.8906 - accuracy: 0.2482\n",
            "Epoch 16/100\n",
            "1724/1724 [==============================] - 23s 13ms/step - loss: 3.8259 - accuracy: 0.2561\n",
            "Epoch 17/100\n",
            "1724/1724 [==============================] - 23s 14ms/step - loss: 3.7645 - accuracy: 0.2645\n",
            "Epoch 18/100\n",
            "1724/1724 [==============================] - 24s 14ms/step - loss: 3.7108 - accuracy: 0.2732\n",
            "Epoch 19/100\n",
            "1724/1724 [==============================] - 23s 13ms/step - loss: 3.6577 - accuracy: 0.2815\n",
            "Epoch 20/100\n",
            "1724/1724 [==============================] - 23s 13ms/step - loss: 3.6085 - accuracy: 0.2881\n",
            "Epoch 21/100\n",
            "1724/1724 [==============================] - 23s 13ms/step - loss: 3.5630 - accuracy: 0.2965\n",
            "Epoch 22/100\n",
            "1724/1724 [==============================] - 23s 13ms/step - loss: 3.5184 - accuracy: 0.3008\n",
            "Epoch 23/100\n",
            "1724/1724 [==============================] - 23s 13ms/step - loss: 3.4764 - accuracy: 0.3070\n",
            "Epoch 24/100\n",
            "1724/1724 [==============================] - 23s 13ms/step - loss: 3.4365 - accuracy: 0.3137\n",
            "Epoch 25/100\n",
            "1724/1724 [==============================] - 24s 14ms/step - loss: 3.3973 - accuracy: 0.3208\n",
            "Epoch 26/100\n",
            "1724/1724 [==============================] - 23s 13ms/step - loss: 3.3617 - accuracy: 0.3246\n",
            "Epoch 27/100\n",
            "1724/1724 [==============================] - 23s 13ms/step - loss: 3.3291 - accuracy: 0.3279\n",
            "Epoch 28/100\n",
            "1724/1724 [==============================] - 23s 13ms/step - loss: 3.2950 - accuracy: 0.3337\n",
            "Epoch 29/100\n",
            "1724/1724 [==============================] - 23s 13ms/step - loss: 3.2685 - accuracy: 0.3387\n",
            "Epoch 30/100\n",
            "1724/1724 [==============================] - 23s 13ms/step - loss: 3.2361 - accuracy: 0.3435\n",
            "Epoch 31/100\n",
            "1724/1724 [==============================] - 23s 13ms/step - loss: 3.2056 - accuracy: 0.3485\n",
            "Epoch 32/100\n",
            "1724/1724 [==============================] - 23s 13ms/step - loss: 3.1792 - accuracy: 0.3511\n",
            "Epoch 33/100\n",
            "1724/1724 [==============================] - 23s 14ms/step - loss: 3.1508 - accuracy: 0.3573\n",
            "Epoch 34/100\n",
            "1724/1724 [==============================] - 23s 13ms/step - loss: 3.1312 - accuracy: 0.3590\n",
            "Epoch 35/100\n",
            "1724/1724 [==============================] - 24s 14ms/step - loss: 3.1035 - accuracy: 0.3637\n",
            "Epoch 36/100\n",
            "1724/1724 [==============================] - 24s 14ms/step - loss: 3.0806 - accuracy: 0.3662\n",
            "Epoch 37/100\n",
            "1724/1724 [==============================] - 23s 13ms/step - loss: 3.0599 - accuracy: 0.3711\n",
            "Epoch 38/100\n",
            "1724/1724 [==============================] - 23s 13ms/step - loss: 3.0350 - accuracy: 0.3753\n",
            "Epoch 39/100\n",
            "1724/1724 [==============================] - 23s 14ms/step - loss: 3.0126 - accuracy: 0.3796\n",
            "Epoch 40/100\n",
            "1724/1724 [==============================] - 24s 14ms/step - loss: 2.9961 - accuracy: 0.3818\n",
            "Epoch 41/100\n",
            "1724/1724 [==============================] - 23s 14ms/step - loss: 2.9757 - accuracy: 0.3831\n",
            "Epoch 42/100\n",
            "1724/1724 [==============================] - 23s 13ms/step - loss: 2.9547 - accuracy: 0.3872\n",
            "Epoch 43/100\n",
            "1724/1724 [==============================] - 23s 13ms/step - loss: 2.9375 - accuracy: 0.3904\n",
            "Epoch 44/100\n",
            "1724/1724 [==============================] - 23s 13ms/step - loss: 2.9208 - accuracy: 0.3933\n",
            "Epoch 45/100\n",
            "1724/1724 [==============================] - 23s 13ms/step - loss: 2.8999 - accuracy: 0.3959\n",
            "Epoch 46/100\n",
            "1724/1724 [==============================] - 23s 13ms/step - loss: 2.8804 - accuracy: 0.4027\n",
            "Epoch 47/100\n",
            "1724/1724 [==============================] - 23s 13ms/step - loss: 2.8635 - accuracy: 0.4038\n",
            "Epoch 48/100\n",
            "1724/1724 [==============================] - 23s 13ms/step - loss: 2.8523 - accuracy: 0.4044\n",
            "Epoch 49/100\n",
            "1724/1724 [==============================] - 23s 13ms/step - loss: 2.8313 - accuracy: 0.4099\n",
            "Epoch 50/100\n",
            "1724/1724 [==============================] - 23s 13ms/step - loss: 2.8203 - accuracy: 0.4116\n",
            "Epoch 51/100\n",
            "1724/1724 [==============================] - 23s 13ms/step - loss: 2.8054 - accuracy: 0.4129\n",
            "Epoch 52/100\n",
            "1724/1724 [==============================] - 23s 13ms/step - loss: 2.7757 - accuracy: 0.4180\n",
            "Epoch 53/100\n",
            "1724/1724 [==============================] - 23s 14ms/step - loss: 2.7718 - accuracy: 0.4184\n",
            "Epoch 54/100\n",
            "1724/1724 [==============================] - 23s 13ms/step - loss: 2.7572 - accuracy: 0.4216\n",
            "Epoch 55/100\n",
            "1724/1724 [==============================] - 23s 13ms/step - loss: 2.7434 - accuracy: 0.4246\n",
            "Epoch 56/100\n",
            "1724/1724 [==============================] - 23s 13ms/step - loss: 2.7325 - accuracy: 0.4254\n",
            "Epoch 57/100\n",
            "1724/1724 [==============================] - 23s 14ms/step - loss: 2.7171 - accuracy: 0.4285\n",
            "Epoch 58/100\n",
            "1724/1724 [==============================] - 24s 14ms/step - loss: 2.7048 - accuracy: 0.4310\n",
            "Epoch 59/100\n",
            "1724/1724 [==============================] - 23s 14ms/step - loss: 2.6926 - accuracy: 0.4325\n",
            "Epoch 60/100\n",
            "1724/1724 [==============================] - 23s 13ms/step - loss: 2.6818 - accuracy: 0.4351\n",
            "Epoch 61/100\n",
            "1724/1724 [==============================] - 23s 14ms/step - loss: 2.6689 - accuracy: 0.4351\n",
            "Epoch 62/100\n",
            "1724/1724 [==============================] - 24s 14ms/step - loss: 2.6625 - accuracy: 0.4372\n",
            "Epoch 63/100\n",
            "1724/1724 [==============================] - 23s 14ms/step - loss: 2.6465 - accuracy: 0.4402\n",
            "Epoch 64/100\n",
            "1724/1724 [==============================] - 24s 14ms/step - loss: 2.6342 - accuracy: 0.4435\n",
            "Epoch 65/100\n",
            "1724/1724 [==============================] - 24s 14ms/step - loss: 2.6212 - accuracy: 0.4440\n",
            "Epoch 66/100\n",
            "1724/1724 [==============================] - 23s 14ms/step - loss: 2.6171 - accuracy: 0.4457\n",
            "Epoch 67/100\n",
            "1724/1724 [==============================] - 23s 14ms/step - loss: 2.6028 - accuracy: 0.4487\n",
            "Epoch 68/100\n",
            "1724/1724 [==============================] - 24s 14ms/step - loss: 2.5900 - accuracy: 0.4495\n",
            "Epoch 69/100\n",
            "1724/1724 [==============================] - 23s 14ms/step - loss: 2.5845 - accuracy: 0.4505\n",
            "Epoch 70/100\n",
            "1724/1724 [==============================] - 23s 13ms/step - loss: 2.5758 - accuracy: 0.4526\n",
            "Epoch 71/100\n",
            "1724/1724 [==============================] - 23s 14ms/step - loss: 2.5653 - accuracy: 0.4536\n",
            "Epoch 72/100\n",
            "1724/1724 [==============================] - 23s 14ms/step - loss: 2.5668 - accuracy: 0.4526\n",
            "Epoch 73/100\n",
            "1724/1724 [==============================] - 23s 13ms/step - loss: 2.5423 - accuracy: 0.4584\n",
            "Epoch 74/100\n",
            "1724/1724 [==============================] - 23s 13ms/step - loss: 2.5415 - accuracy: 0.4589\n",
            "Epoch 75/100\n",
            "1724/1724 [==============================] - 24s 14ms/step - loss: 2.5418 - accuracy: 0.4587\n",
            "Epoch 76/100\n",
            "1724/1724 [==============================] - 23s 14ms/step - loss: 2.5256 - accuracy: 0.4605\n",
            "Epoch 77/100\n",
            "1724/1724 [==============================] - 24s 14ms/step - loss: 2.5192 - accuracy: 0.4625\n",
            "Epoch 78/100\n",
            "1724/1724 [==============================] - 24s 14ms/step - loss: 2.5041 - accuracy: 0.4649\n",
            "Epoch 79/100\n",
            "1724/1724 [==============================] - 23s 14ms/step - loss: 2.4939 - accuracy: 0.4677\n",
            "Epoch 80/100\n",
            "1724/1724 [==============================] - 23s 13ms/step - loss: 2.4869 - accuracy: 0.4688\n",
            "Epoch 81/100\n",
            "1724/1724 [==============================] - 23s 14ms/step - loss: 2.4781 - accuracy: 0.4690\n",
            "Epoch 82/100\n",
            "1724/1724 [==============================] - 23s 14ms/step - loss: 2.4762 - accuracy: 0.4674\n",
            "Epoch 83/100\n",
            "1724/1724 [==============================] - 23s 13ms/step - loss: 2.4665 - accuracy: 0.4709\n",
            "Epoch 84/100\n",
            "1724/1724 [==============================] - 23s 14ms/step - loss: 2.4620 - accuracy: 0.4743\n",
            "Epoch 85/100\n",
            "1724/1724 [==============================] - 23s 14ms/step - loss: 2.4538 - accuracy: 0.4732\n",
            "Epoch 86/100\n",
            "1724/1724 [==============================] - 23s 13ms/step - loss: 2.4514 - accuracy: 0.4734\n",
            "Epoch 87/100\n",
            "1724/1724 [==============================] - 23s 14ms/step - loss: 2.4366 - accuracy: 0.4778\n",
            "Epoch 88/100\n",
            "1724/1724 [==============================] - 23s 14ms/step - loss: 2.4254 - accuracy: 0.4790\n",
            "Epoch 89/100\n",
            "1724/1724 [==============================] - 24s 14ms/step - loss: 2.4221 - accuracy: 0.4783\n",
            "Epoch 90/100\n",
            "1724/1724 [==============================] - 23s 14ms/step - loss: 2.4209 - accuracy: 0.4793\n",
            "Epoch 91/100\n",
            "1724/1724 [==============================] - 23s 13ms/step - loss: 2.4148 - accuracy: 0.4802\n",
            "Epoch 92/100\n",
            "1724/1724 [==============================] - 23s 14ms/step - loss: 2.4049 - accuracy: 0.4823\n",
            "Epoch 93/100\n",
            "1724/1724 [==============================] - 24s 14ms/step - loss: 2.3910 - accuracy: 0.4855\n",
            "Epoch 94/100\n",
            "1724/1724 [==============================] - 24s 14ms/step - loss: 2.3925 - accuracy: 0.4853\n",
            "Epoch 95/100\n",
            "1724/1724 [==============================] - 24s 14ms/step - loss: 2.3824 - accuracy: 0.4868\n",
            "Epoch 96/100\n",
            "1724/1724 [==============================] - 23s 14ms/step - loss: 2.3859 - accuracy: 0.4850\n",
            "Epoch 97/100\n",
            "1724/1724 [==============================] - 23s 13ms/step - loss: 2.3705 - accuracy: 0.4901\n",
            "Epoch 98/100\n",
            "1724/1724 [==============================] - 23s 13ms/step - loss: 2.3700 - accuracy: 0.4892\n",
            "Epoch 99/100\n",
            "1724/1724 [==============================] - 23s 14ms/step - loss: 2.3604 - accuracy: 0.4898\n",
            "Epoch 100/100\n",
            "1724/1724 [==============================] - 23s 14ms/step - loss: 2.3571 - accuracy: 0.4912\n"
          ]
        }
      ],
      "source": [
        "from tensorflow.keras.models import Sequential\n",
        "from tensorflow.keras.layers import Embedding, LSTM, Dense, Bidirectional\n",
        "\n",
        "model = Sequential()\n",
        "model.add(Embedding(total_words, 64, input_length=max_sequence_len-1))\n",
        "model.add(Bidirectional(LSTM(20)))\n",
        "model.add(Dense(total_words, activation='softmax'))\n",
        "model.compile(loss='categorical_crossentropy', optimizer='adam', metrics=['accuracy'])\n",
        "history = model.fit(input_sequences, one_hot_labels, epochs=100, verbose=1)"
      ]
    },
    {
      "cell_type": "markdown",
      "metadata": {
        "id": "MgvIz20nlQcq"
      },
      "source": [
        "### View the Training Graph"
      ]
    },
    {
      "cell_type": "code",
      "execution_count": 7,
      "metadata": {
        "id": "rOqmmarvlSLh",
        "outputId": "aaa2ada5-14be-4caf-b1a4-200289a24351",
        "colab": {
          "base_uri": "https://localhost:8080/",
          "height": 279
        }
      },
      "outputs": [
        {
          "output_type": "display_data",
          "data": {
            "text/plain": [
              "<Figure size 432x288 with 1 Axes>"
            ],
            "image/png": "[encoded data removed]"
          },
          "metadata": {
            "needs_background": "light"
          }
        }
      ],
      "source": [
        "import matplotlib.pyplot as plt\n",
        "\n",
        "def plot_graphs(history, string):\n",
        "  plt.plot(history.history[string])\n",
        "  plt.xlabel(\"Epochs\")\n",
        "  plt.ylabel(string)\n",
        "  plt.show()\n",
        "\n",
        "plot_graphs(history, 'accuracy')"
      ]
    },
    {
      "cell_type": "markdown",
      "metadata": {
        "id": "ISLZZGlQlSxh"
      },
      "source": [
        "### Generate better lyrics!\n",
        "\n",
        "This time around, we should be able to get a more interesting output with less repetition."
      ]
    },
    {
      "cell_type": "code",
      "execution_count": 9,
      "metadata": {
        "id": "P96oVMk3lU7y",
        "outputId": "8fe3bf3d-c5b4-433f-c917-057a0da02a72",
        "colab": {
          "base_uri": "https://localhost:8080/"
        }
      },
      "outputs": [
        {
          "output_type": "stream",
          "name": "stdout",
          "text": [
            "roses are red violets are blue where it was tough anyway waiting for you more you more than it done mean lot climb somehow wouldnt wait story fair followed beg beautiful tear truth die beautiful forgive song count attic way climb weary dust on hole distance spell change teach girlfriend cause it dont leave it up\n"
          ]
        }
      ],
      "source": [
        "seed_text = \"roses are red violets are blue\"\n",
        "next_words = 50\n",
        "  \n",
        "for _ in range(next_words):\n",
        "\ttoken_list = tokenizer.texts_to_sequences([seed_text])[0]\n",
        "\ttoken_list = pad_sequences([token_list], maxlen=max_sequence_len-1, padding='pre')\n",
        "\tpredicted = np.argmax(model.predict(token_list), axis=-1)\n",
        "\toutput_word = \"\"\n",
        "\tfor word, index in tokenizer.word_index.items():\n",
        "\t\tif index == predicted:\n",
        "\t\t\toutput_word = word\n",
        "\t\t\tbreak\n",
        "\tseed_text += \" \" + output_word\n",
        "print(seed_text)"
      ]
    },
    {
      "cell_type": "markdown",
      "metadata": {
        "id": "upgJKV8_oRU9"
      },
      "source": [
        "### Varying the Possible Outputs\n",
        "\n",
        "In running the above, you may notice that the same seed text will generate similar outputs. This is because the code is currently always choosing the top predicted class as the next word. What if you wanted more variance in the output? \n",
        "\n",
        "Switching from `model.predict_classes` to `model.predict_proba` will get us all of the class probabilities. We can combine this with `np.random.choice` to select a given predicted output based on a probability, thereby giving a bit more randomness to our outputs."
      ]
    },
    {
      "cell_type": "code",
      "execution_count": 11,
      "metadata": {
        "id": "lZe9gaJeoGVP",
        "outputId": "fba26920-223c-4f43-820a-1885868e6421",
        "colab": {
          "base_uri": "https://localhost:8080/"
        }
      },
      "outputs": [
        {
          "output_type": "stream",
          "name": "stdout",
          "text": [
            "17\n"
          ]
        }
      ],
      "source": [
        "# Test the method with just the first word after the seed text\n",
        "seed_text = \"roses are red violets are blue\"\n",
        "next_words = 50\n",
        "  \n",
        "token_list = tokenizer.texts_to_sequences([seed_text])[0]\n",
        "token_list = pad_sequences([token_list], maxlen=max_sequence_len-1, padding='pre')\n",
        "predicted_probs = model.predict(token_list)[0]\n",
        "predicted = np.random.choice([x for x in range(len(predicted_probs))], \n",
        "                             p=predicted_probs)\n",
        "# Running this cell multiple times should get you some variance in output\n",
        "print(predicted)"
      ]
    },
    {
      "cell_type": "code",
      "execution_count": 13,
      "metadata": {
        "id": "ee7WKgRGrJy1",
        "outputId": "8936781d-a052-4ba1-f177-1c3c1838565c",
        "colab": {
          "base_uri": "https://localhost:8080/"
        }
      },
      "outputs": [
        {
          "output_type": "stream",
          "name": "stdout",
          "text": [
            "roses are red violets are blue standing out white fire other way fire and chest medicine yellow beat of ground other lesson yellow road appetite knowing climb somehow mother brand treat push test down girlfriend prayed to fly end musta take jump down knowing sing two isnt true more way other place breaking and dirty nothin\n"
          ]
        }
      ],
      "source": [
        "# Use this process for the full output generation\n",
        "seed_text = \"roses are red violets are blue\"\n",
        "next_words = 50\n",
        "  \n",
        "for _ in range(next_words):\n",
        "  token_list = tokenizer.texts_to_sequences([seed_text])[0]\n",
        "  token_list = pad_sequences([token_list], maxlen=max_sequence_len-1, padding='pre')\n",
        "  predicted_probs = model.predict(token_list)[0]\n",
        "  predicted = np.random.choice([x for x in range(len(predicted_probs))],\n",
        "                               p=predicted_probs)\n",
        "  output_word = \"\"\n",
        "  for word, index in tokenizer.word_index.items():\n",
        "    if index == predicted:\n",
        "      output_word = word\n",
        "      break\n",
        "  seed_text += \" \" + output_word\n",
        "print(seed_text)"
      ]
    },
    {
      "cell_type": "code",
      "source": [
        ""
      ],
      "metadata": {
        "id": "-ZDxfap7Aeho"
      },
      "execution_count": null,
      "outputs": []
    }
  ],
  "metadata": {
    "accelerator": "GPU",
    "colab": {
      "collapsed_sections": [],
      "name": "l10c04_nlp_optimizing_the_text_generation_model.ipynb",
      "provenance": []
    },
    "kernelspec": {
      "display_name": "Python 3",
      "name": "python3"
    }
  },
  "nbformat": 4,
  "nbformat_minor": 0
}